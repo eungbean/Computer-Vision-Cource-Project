{
 "cells": [
  {
   "cell_type": "markdown",
   "metadata": {},
   "source": [
    "# Exersise 1: Transformation\n",
    "prob1)  \n",
    "Rotation, translation and skew are useful operations for matching and tracking.  \n",
    "Write a function that takes as input an image $I$, rotates it with an angle $θ_1$ and horizontally skews it with a second angle, $θ_2$.  \n",
    "Write the matrix formulation for image rotation and skewing (define all the variables).  \n",
    " \n",
    "prob2)   \n",
    "• Create an image containing your name written in Arial, point 72, capital letters.   \n",
    "Rotate the image you created by $θ$ = 30, $θ$ = 60, $θ$ = 120 and $θ$ = -50 degrees clockwise.   \n",
    "Skew the same image by $θ$ = 10, $θ$ = 40 and $θ$ = 60 degrees.   \n",
    "Comment the results.  \n",
    "\n",
    "• Analyse the results when you change the order of the two operators i.e. R(S(I)) and S(R(I)), where R is the rotation and S is the skew.   \n",
    "Are the results of (i) and (ii) the same? Why?   \n",
    "• Rotate the image by $θ_1 = 20$ clockwise and then skew the result of $θ_2 = 50$.   \n",
    "• Skew the image of $θ_2 = 50$ and then rotate the result by $θ_1 = 20$ clockwise.  "
   ]
  },
  {
   "cell_type": "markdown",
   "metadata": {},
   "source": [
    "# Problem 1.\n",
    "Rotation, translation and skew are useful operations for matching and tracking.  \n",
    "Write a function that takes as input an image $I$, rotates it with an angle $θ_1$ and horizontally skews it with a second angle, $θ_2$.  \n",
    "Write the matrix formulation for image rotation and skewing (define all the variables).  "
   ]
  },
  {
   "cell_type": "markdown",
   "metadata": {},
   "source": [
    "## Answer )\n",
    "$$\n",
    "\\begin{bmatrix}x'\\\\y'\\\\1\\end{bmatrix}=\n",
    "\\underbrace{\\begin{bmatrix}1 & \\frac{1}{tan\\theta_2}  & 0 \\\\ 0 & 1 & 0\\\\ 0 & 0 & 1\\end{bmatrix}}_\\text{skew}\n",
    "\\underbrace{\\begin{bmatrix} cos\\theta_1 & -sin\\theta_1  & 0 \\\\ sin\\theta_1 & cos\\theta_1 & 0\\\\ 0 & 0 & 1\\end{bmatrix}}_\\text{rotation}\n",
    "\\begin{bmatrix}x\\\\y\\\\1\\end{bmatrix}\n",
    "$$\n",
    "where $x',y'$ = output pixel position, $x,y$ = input pixel position"
   ]
  },
  {
   "cell_type": "markdown",
   "metadata": {},
   "source": [
    "# Problem 2.\n",
    "• Create an image containing your name written in Arial, point 72, capital letters."
   ]
  },
  {
   "cell_type": "code",
   "execution_count": 46,
   "metadata": {},
   "outputs": [
    {
     "data": {
      "text/plain": [
       "<matplotlib.image.AxesImage at 0x7fec90f3d860>"
      ]
     },
     "execution_count": 46,
     "metadata": {},
     "output_type": "execute_result"
    },
    {
     "data": {
      "image/png": "[encoded data removed]",
      "text/plain": [
       "<Figure size 432x288 with 1 Axes>"
      ]
     },
     "metadata": {},
     "output_type": "display_data"
    }
   ],
   "source": [
    "from PIL import Image, ImageDraw, ImageFont\n",
    "from matplotlib import pyplot as plt\n",
    "import numpy as np\n",
    "\n",
    "img = Image.new('RGB', (500, 200), color = (73, 109, 137))\n",
    "fnt = ImageFont.truetype('assets/Arial.ttf',72)\n",
    "d = ImageDraw.Draw(img)\n",
    "d.text((10,60), \"Eungbean Lee\", font=fnt, fill=(255,255,0))\n",
    "img=np.asarray(img)\n",
    "\n",
    "plt.imshow(img)"
   ]
  },
  {
   "cell_type": "markdown",
   "metadata": {},
   "source": [
    "## Define transformation function\n",
    "### Rotation matrix\n",
    "\n",
    "We're going to define rotation function according to the matrix that we derive in problem 1.\n",
    "$$\n",
    "\\begin{bmatrix}x'\\\\y'\\\\1\\end{bmatrix}=\n",
    "\\underbrace{\\begin{bmatrix} cos\\theta_1 & -sin\\theta_1  & 0 \\\\ sin\\theta_1 & cos\\theta_1 & 0\\\\ 0 & 0 & 1\\end{bmatrix}}_\\text{rotation}\n",
    "\\begin{bmatrix}x\\\\y\\\\1\\end{bmatrix}\n",
    "$$\n",
    "\n",
    "### Inverse Mapping\n",
    "<img src=\"assets/prob1-inversemapping.png\" width=\"400\">\n",
    "\n",
    "Inverse mapping is used in most of the practical implemeantation.  \n",
    "1. locate the output image pixel grid in output space.  \n",
    "2. for each output pixel on the grid:  \n",
    "    1) apply the inverse spatial transformation to determine the corresponding location in input space: $(u_k, v_k) = T^{-1}{(x_k, y_k)}$  \n",
    "    2) Using the input image pixels nearest to $(u_k, v_k)$ interpolate to get an approximate value for the input image at $(u_k, v_k)$.  \n",
    "    3) Use that value for the k-th output pixel.  "
   ]
  },
  {
   "cell_type": "markdown",
   "metadata": {},
   "source": [
    "### Define bilinear interpolation function\n",
    "\n",
    "![interpolation](https://upload.wikimedia.org/wikipedia/commons/thumb/9/90/Comparison_of_1D_and_2D_interpolation.svg/500px-Comparison_of_1D_and_2D_interpolation.svg.png)  \n",
    "credit: https://rosettacode.org/wiki/Bilinear_interpolation#Python"
   ]
  },
  {
   "cell_type": "code",
   "execution_count": 86,
   "metadata": {},
   "outputs": [],
   "source": [
    "def Bilinear(imArr, posX, posY):\n",
    "    out = []\n",
    "\n",
    "    #Get integer and fractional parts of numbers\n",
    "    modXi = int(posX)\n",
    "    modYi = int(posY)\n",
    "    modXf = posX - modXi\n",
    "    modYf = posY - modYi\n",
    "    modXiPlusOneLim = min(modXi+1,imArr.shape[1]-1)\n",
    "    modYiPlusOneLim = min(modYi+1,imArr.shape[0]-1)\n",
    "\n",
    "    #Get pixels in four corners\n",
    "    for chan in range(imArr.shape[2]):\n",
    "        bl = imArr[modYi, modXi, chan]\n",
    "        br = imArr[modYi, modXiPlusOneLim, chan]\n",
    "        tl = imArr[modYiPlusOneLim, modXi, chan]\n",
    "        tr = imArr[modYiPlusOneLim, modXiPlusOneLim, chan]\n",
    "\n",
    "        #Calculate interpolation\n",
    "        b = modXf * br + (1. - modXf) * bl\n",
    "        t = modXf * tr + (1. - modXf) * tl\n",
    "        pxf = modYf * t + (1. - modYf) * b\n",
    "        out.append(int(pxf+0.5))\n",
    "\n",
    "    return out"
   ]
  },
  {
   "cell_type": "code",
   "execution_count": 88,
   "metadata": {},
   "outputs": [
    {
     "data": {
      "image/png": "[encoded data removed]",
      "text/plain": [
       "<Figure size 432x288 with 1 Axes>"
      ]
     },
     "metadata": {},
     "output_type": "display_data"
    }
   ],
   "source": [
    " def rot_pt(pos, T):\n",
    "    before = np.asarray([pos[0], pos[1], 1]).T\n",
    "    after = np.matmul(T, before)\n",
    "    return after[0:2]\n",
    "\n",
    "def rotation(img, theta):\n",
    "    (h, w, c) = img.shape\n",
    "    angle = np.radians(theta)\n",
    "    cos, sin = np.cos(angle), np.sin(angle)\n",
    "\n",
    "    T = np.matrix([[ cos,sin,0],\n",
    "                   [-sin,cos,0],\n",
    "                   [   0,  0,1]])\n",
    "    #Get output img size\n",
    "    #TODO: change more eleastic way using rot_pt()\n",
    "    extremes = np.vstack((rot_pt((0,0),T), rot_pt((w,0),T), rot_pt((0,h),T), rot_pt((w,h),T))).T\n",
    "    minx, maxx, miny, maxy = np.min(extremes[0]), np.max(extremes[0]), np.min(extremes[1]),np.max(extremes[1])\n",
    "\n",
    "\n",
    "    T = np.array([[ cos, sin, -minx],\n",
    "                  [-sin, cos, -miny],\n",
    "                  [   0,   0,    1]], np.float64)\n",
    "\n",
    "    Tinv = np.linalg.inv(T)\n",
    "\n",
    "    #Define output image\n",
    "    img_rot = np.zeros((np.int(maxy-miny),np.int(maxx-minx),3), dtype=np.uint8)\n",
    "\n",
    "    for x in range(0, img_rot.shape[1]):\n",
    "        for y in range(0, img_rot.shape[0]):\n",
    "            (x_inv, y_inv) = rot_pt((x,y),Tinv)\n",
    "            if x_inv < 0 or y_inv < 0 or x_inv>w or y_inv>h: pass\n",
    "            else:\n",
    "                img_rot[y,x] = Bilinear(img, x_inv,y_inv)\n",
    "\n",
    "    plt.imshow(img_rot)\n",
    "\n",
    "    \n",
    "rotation(img, 30)"
   ]
  },
  {
   "cell_type": "code",
   "execution_count": null,
   "metadata": {},
   "outputs": [],
   "source": [
    "def rot_x(angle,ptx,pty):\n",
    "    return np.cos(angle)*ptx + np.sin(angle)*pty\n",
    "\n",
    "def rot_y(angle,ptx,pty):\n",
    "    return -np.sin(angle)*ptx + np.cos(angle)*pty\n",
    "\n",
    "#Rotation in naive form\n",
    "def rotation(img, theta):\n",
    "    (x,y) = img.size\n",
    "    angle = np.radians(theta)\n",
    "    cos, sin = np.cos(angle), np.sin(angle)\n",
    "  \n",
    "    xextremes = [rot_x(angle,0,0),rot_x(angle,0,y-1),rot_x(angle,x-1,0),rot_x(angle,x-1,y-1)]\n",
    "    yextremes = [rot_y(angle,0,0),rot_y(angle,0,y-1),rot_y(angle,x-1,0),rot_y(angle,x-1,y-1)]\n",
    "    mnx, mxx, mny, mxy = min(xextremes), max(xextremes), min(yextremes), max(yextremes)\n",
    "    \n",
    "    T = np.matrix([[ cos,sin,-mnx],\n",
    "                   [-sin,cos,-mny],\n",
    "                   [   0,  0,   1]])\n",
    "\n",
    "\n",
    "    Tinv = np.linalg.inv(T)\n",
    "    Tinvtuple = (Tinv[0,0],Tinv[0,1], Tinv[0,2], Tinv[1,0],Tinv[1,1],Tinv[1,2])\n",
    "    img_rotated = img.transform((int(round(mxx-mnx)),int(round((mxy-mny)))),Image.AFFINE,Tinvtuple,resample=Image.BILINEAR)\n",
    "\n",
    "    return img_rotated\n",
    "\n",
    "rotation(img, 45)"
   ]
  }
 ],
 "metadata": {
  "kernelspec": {
   "display_name": "Python 3",
   "language": "python",
   "name": "python3"
  },
  "language_info": {
   "codemirror_mode": {
    "name": "ipython",
    "version": 3
   },
   "file_extension": ".py",
   "mimetype": "text/x-python",
   "name": "python",
   "nbconvert_exporter": "python",
   "pygments_lexer": "ipython3",
   "version": "3.6.8"
  }
 },
 "nbformat": 4,
 "nbformat_minor": 4
}
